{
 "cells": [
  {
   "attachments": {
    "download.jpeg": {
     "image/jpeg": "[encoded data removed]"
    }
   },
   "cell_type": "markdown",
   "id": "94073323",
   "metadata": {},
   "source": [
    "![download.jpeg](attachment:download.jpeg)"
   ]
  },
  {
   "cell_type": "markdown",
   "id": "8395e236",
   "metadata": {},
   "source": [
    "\n",
    "# Lets Grow More Intership(VIP) july-2023 "
   ]
  },
  {
   "cell_type": "markdown",
   "id": "ede83005",
   "metadata": {},
   "source": [
    "# Author - D Daniel Vincent Raj"
   ]
  },
  {
   "cell_type": "markdown",
   "id": "166f1ce9",
   "metadata": {},
   "source": [
    "# Title - Develop A Neural Network That Can Read Handwriting(task-1)"
   ]
  },
  {
   "cell_type": "markdown",
   "id": "dc53e6ca",
   "metadata": {},
   "source": [
    "# ADVANCED LEVEL TASK"
   ]
  },
  {
   "cell_type": "code",
   "execution_count": 1,
   "id": "1979b1c2",
   "metadata": {},
   "outputs": [],
   "source": [
    "import cv2\n",
    "import os\n",
    "import numpy as np\n",
    "import matplotlib.pyplot as plt\n",
    "import tensorflow as tf"
   ]
  },
  {
   "cell_type": "code",
   "execution_count": 2,
   "id": "c196d11c",
   "metadata": {},
   "outputs": [],
   "source": [
    "mnist=tf.keras.datasets.mnist\n",
    "#x being the pixel data and y being the classification\n",
    "(x_train, y_train),(x_test,y_test)=mnist.load_data()\n",
    "# x data is the image itself the handwritten digit itself and y data is just the classification so the number the digit"
   ]
  },
  {
   "cell_type": "code",
   "execution_count": 3,
   "id": "36dfe753",
   "metadata": {},
   "outputs": [],
   "source": [
    "# in next step we going to normalizing means every value is between 0 and 1\n",
    "#so if we have a grayscalepixel can have lightness from 0 to 255 and if we normalize it we can go b/w 0 and 1"
   ]
  },
  {
   "cell_type": "code",
   "execution_count": 4,
   "id": "c59bd5b2",
   "metadata": {},
   "outputs": [],
   "source": [
    "# so to do that \n",
    "x_train = tf.keras.utils.normalize(x_train,axis=1)\n",
    "#we do not normalize the digits we only want to normalize the pixels\n",
    "#because the makes easier for neural network to do calculations\n",
    "x_test = tf.keras.utils.normalize(x_train,axis=1)\n",
    "# that all about preprocessing now we can start model"
   ]
  },
  {
   "cell_type": "code",
   "execution_count": 5,
   "id": "0013e825",
   "metadata": {},
   "outputs": [],
   "source": [
    "#sequentialis a basic sequential neural network\n",
    "model=tf.keras.models.Sequential()\n",
    "#now we add layers to the model\n",
    "model.add(tf.keras.layers.Flatten(input_shape=(28,28)))\n",
    "#flattened layerr basically means that we faltten a certain imput shape \n",
    "#input_shape means? what is 28,28?\n",
    "#flattend layer does is to turn them into one flat layer so it not a grid of 28 by 28 it turns 28*28=784 pixels\n",
    "\n",
    "\n",
    "#  now we want denser layer-> is the most basic layer in nural network that is connected\n",
    "# to each neuron is connected to each other neuron of other layer\n",
    "\n",
    "#input layer\n",
    "model.add(tf.keras.layers.Dense(128,activation='relu'))#Dense layer we specify the units 128 and then we use the activation function\n",
    "# activation function ='relu'-> ReLU stands for Rectified Linear Unit\n",
    "#info about relu= \" https://www.baeldung.com/cs/ml-relu-dropout-layers#:~:text=As%20a%20consequence%2C%20the%20usage,adding%20extra%20ReLUs%20increases%20linearly. \"\n",
    "\n",
    "\n",
    "model.add(tf.keras.layers.Dense(128,activation='relu'))#middle layer\n",
    "\n",
    "\n",
    "model.add(tf.keras.layers.Dense(10,activation='softmax'))#this is going to be output layer\n",
    "#we use 10 units to represent individual digits \n",
    "#so we have 0,1,2,3,4,5,6,7,8,9 that is 10 neurons and activation function is going to be 'softmax'\n",
    "#so softmax does is it makes sure all the outputs all the 10 neurons add up to 1\n",
    "#so each of the 10 digit neurons is going to have value b/w 0 and 1\n",
    "#so softmax gives us the probability for each digit to be right answer"
   ]
  },
  {
   "cell_type": "code",
   "execution_count": 6,
   "id": "0a175482",
   "metadata": {},
   "outputs": [],
   "source": [
    "# now we compile the model\n",
    "model.compile(optimizer ='adam',loss='sparse_categorical_crossentropy',metrics=['accuracy'])\n",
    "# we choose 'optimizer'=adam ->adaptive moment estimation\n",
    "#Adam optimizer is a powerful tool for improving the accuracy and speed of\n",
    "#deep learning models. Its adaptive learning rate and momentum-based approach\n",
    "#can help the neural network learn faster and converge more quickly towards the optimal set of parameters that minimize the cost or loss function.\n",
    "\n",
    "\n",
    "# we choose 'loss'=sparse_categorical_crossentropy\n",
    "#The purpose of loss functions is to compute the quantity that a model should seek to minimize during training.\n",
    "# for more info on loss->  https://keras.io/api/losses/\n",
    "\n",
    "\n",
    "\n",
    "#metrics=accuracy-> Metrics are used to monitor and measure the performance of\n",
    "#                  a model (during training and testing), and don't need to be\n",
    "#                  differentiable.\n",
    "#info on metrics ->https://neptune.ai/blog/performance-metrics-in-machine-learning-complete-guide#:~:text=Metrics%20are%20used%20to%20monitor,it)%2C%20such%20as%20MSE.\n",
    "#info on accuracy-> https://developers.google.com/machine-learning/crash-course/classification/accuracy#:~:text=Accuracy%20is%20one%20metric%20for,predictions%20Total%20number%20of%20predictions"
   ]
  },
  {
   "cell_type": "code",
   "execution_count": 15,
   "id": "2612a91a",
   "metadata": {},
   "outputs": [
    {
     "name": "stdout",
     "output_type": "stream",
     "text": [
      "Epoch 1/7\n",
      "1875/1875 [==============================] - 5s 3ms/step - loss: 0.0122 - accuracy: 0.0988\n",
      "Epoch 2/7\n",
      "1875/1875 [==============================] - 5s 3ms/step - loss: 0.0113 - accuracy: 0.0988\n",
      "Epoch 3/7\n",
      "1875/1875 [==============================] - 5s 3ms/step - loss: 0.0100 - accuracy: 0.0988\n",
      "Epoch 4/7\n",
      "1875/1875 [==============================] - 5s 3ms/step - loss: 0.0086 - accuracy: 0.0987 - ETA: 0s - loss: 0.0088 - \n",
      "Epoch 5/7\n",
      "1875/1875 [==============================] - 5s 3ms/step - loss: 0.0103 - accuracy: 0.0987\n",
      "Epoch 6/7\n",
      "1875/1875 [==============================] - 5s 3ms/step - loss: 0.0092 - accuracy: 0.0987\n",
      "Epoch 7/7\n",
      "1875/1875 [==============================] - 5s 3ms/step - loss: 0.0080 - accuracy: 0.0986\n"
     ]
    },
    {
     "data": {
      "text/plain": [
       "<tensorflow.python.keras.callbacks.History at 0x16e97beae20>"
      ]
     },
     "execution_count": 15,
     "metadata": {},
     "output_type": "execute_result"
    }
   ],
   "source": [
    "# now we need to fit the model means to train the model.\n",
    "model.fit(x_train,y_train,epochs=7)\n",
    "#epochs is how many iterations we see\n"
   ]
  },
  {
   "cell_type": "code",
   "execution_count": 16,
   "id": "fb930ec4",
   "metadata": {},
   "outputs": [
    {
     "name": "stdout",
     "output_type": "stream",
     "text": [
      "INFO:tensorflow:Assets written to: handwritting.model\\assets\n"
     ]
    }
   ],
   "source": [
    "#now model training is done we are going to save it\n",
    "model.save('handwritting.model')"
   ]
  },
  {
   "cell_type": "markdown",
   "id": "0a506caa",
   "metadata": {},
   "source": [
    "\n",
    "# we can use Convolutionsl neural network to make hand writting analysis\n"
   ]
  },
  {
   "cell_type": "code",
   "execution_count": 17,
   "id": "6c7bfcd1",
   "metadata": {},
   "outputs": [
    {
     "name": "stdout",
     "output_type": "stream",
     "text": [
      "(10000, 28, 28)\n",
      "(10000,)\n",
      "(10000, 28, 28)\n",
      "(10000,)\n"
     ]
    }
   ],
   "source": [
    "# i got error in (*** cell) so we use this\n",
    "print(x_test.shape)\n",
    "print(y_test.shape)\n",
    "x_test = x_test[:10000]  # Assuming you want the first 10,000 samples from x_test\n",
    "print(x_test.shape)\n",
    "print(y_test.shape)"
   ]
  },
  {
   "cell_type": "raw",
   "id": "db0e5af7",
   "metadata": {},
   "source": [
    "To ensure that your input data (x_test) and target data (y_test) have the same number of samples, you need to ensure that they are aligned correctly. Here are a few steps to help you accomplish this:\n",
    "\n",
    "1)Verify the data sources: Make sure that the data you are using for x_test and y_test correspond to the same set of samples. Double-check that you are using the correct datasets for testing.\n",
    "\n",
    "2)Check the data shapes: Print the shapes of x_test and y_test to verify their dimensions. Use the shape attribute of NumPy arrays or the len() function for Python lists.\n",
    "print(x_test.shape)\n",
    "print(y_test.shape)\n",
    "\n",
    "3)Match the data dimensions: If you find that the shapes of x_test and y_test are different, you need to align them properly. Here are a few approaches depending on the structure of your data:\n",
    "\n",
    "      ->If your x_test and y_test are NumPy arrays, you can use array slicing or indexing to ensure that they have the same number of samples. \n",
    "      For example:\n",
    "      \n",
    "x_test = x_test[:10000]               # Assuming you want the first 10,000                                             samples from x_test\n",
    "\n",
    "      ->If you have lists or other data structures, you can use list slicing or other appropriate techniques to adjust the number of samples in x_test and y_test.\n",
    "\n",
    "4)Verify the alignment: After making the necessary adjustments, recheck the shapes of x_test and y_test to ensure they have the same number of samples.\n",
    "print(x_test.shape)\n",
    "print(y_test.shape)\n",
    "\n"
   ]
  },
  {
   "cell_type": "code",
   "execution_count": 18,
   "id": "4651c747",
   "metadata": {},
   "outputs": [
    {
     "name": "stdout",
     "output_type": "stream",
     "text": [
      "313/313 [==============================] - 1s 2ms/step - loss: 30.9434 - accuracy: 0.1001\n",
      "30.9433650970459\n",
      "0.10010000318288803\n"
     ]
    }
   ],
   "source": [
    "#*** \n",
    "\n",
    "model = tf.keras.models.load_model('handwritting.model')#we always we need to run from top but by this code we saved and running the model without running all the steps\n",
    "loss, accuracy = model.evaluate(x_test, y_test)\n",
    "print(loss) # the loss function is absolute value which we want to get as low as possible\n",
    "\n",
    "print(accuracy) #accuracy is the number b/w zero and one\n",
    "                #one means 100% accuracy"
   ]
  },
  {
   "cell_type": "code",
   "execution_count": 19,
   "id": "381aaf9f",
   "metadata": {},
   "outputs": [],
   "source": [
    "#now we goind to to have the hand written paint\n",
    "#that we are going to draw ourself and give it to model and predict the model what we have drawn\n",
    "\n",
    "#now create a digit directory in the folder and use the paint in system"
   ]
  },
  {
   "cell_type": "code",
   "execution_count": 20,
   "id": "5300257f",
   "metadata": {},
   "outputs": [
    {
     "name": "stdout",
     "output_type": "stream",
     "text": [
      "the digit probably a 1\n"
     ]
    },
    {
     "data": {
      "image/png": "[encoded data removed]",
      "text/plain": [
       "<Figure size 432x288 with 1 Axes>"
      ]
     },
     "metadata": {
      "needs_background": "light"
     },
     "output_type": "display_data"
    },
    {
     "name": "stdout",
     "output_type": "stream",
     "text": [
      "the digit probably a 2\n"
     ]
    },
    {
     "data": {
      "image/png": "[encoded data removed]",
      "text/plain": [
       "<Figure size 432x288 with 1 Axes>"
      ]
     },
     "metadata": {
      "needs_background": "light"
     },
     "output_type": "display_data"
    },
    {
     "name": "stdout",
     "output_type": "stream",
     "text": [
      "the digit probably a 3\n"
     ]
    },
    {
     "data": {
      "image/png": "[encoded data removed]",
      "text/plain": [
       "<Figure size 432x288 with 1 Axes>"
      ]
     },
     "metadata": {
      "needs_background": "light"
     },
     "output_type": "display_data"
    },
    {
     "name": "stdout",
     "output_type": "stream",
     "text": [
      "the digit probably a 9\n"
     ]
    },
    {
     "data": {
      "image/png": "[encoded data removed]",
      "text/plain": [
       "<Figure size 432x288 with 1 Axes>"
      ]
     },
     "metadata": {
      "needs_background": "light"
     },
     "output_type": "display_data"
    }
   ],
   "source": [
    "#now we r going to predict the image\n",
    "image_number=1\n",
    "while os.path.isfile(f\"digits/digit{image_number}.png\"):\n",
    "    try:\n",
    "        img=cv2.imread(f\"digits/digit{image_number}.png\")[:,:,0]\n",
    "        img=np.invert(np.array([img]))\n",
    "        prediction=model.predict(img)\n",
    "        print(F\"the digit probably a {np.argmax(prediction)}\")#argmax gives us the index of the field\n",
    "                                                #  that has the highest number so it shows which \n",
    "                                                # neuron have the highest activation \n",
    "        plt.imshow(img[0], cmap=plt.cm.binary)\n",
    "        plt.show()\n",
    "    except:\n",
    "        print(\"error\")\n",
    "    finally:\n",
    "        image_number += 1"
   ]
  },
  {
   "cell_type": "code",
   "execution_count": 13,
   "id": "b4d2baf7",
   "metadata": {},
   "outputs": [],
   "source": [
    "#the accuracy of digit 4 is wrong to improve the accuracy we need to increase the epochs value  "
   ]
  },
  {
   "cell_type": "markdown",
   "id": "305438fa",
   "metadata": {},
   "source": [
    "The expression\n",
    "\n",
    "**os.path.isfile(f\"digits/digit{image_number}.png\")**\n",
    "\n",
    "is checking whether a file exists at the specified path. Let's break it down:\n",
    "\n",
    "1)os.path is a module in Python's standard library that provides functions for working with file paths.\n",
    "\n",
    "2)isfile() is a function from the os.path module that checks if a path refers to a regular file (as opposed to a directory, symbolic link, etc.).\n",
    "\n",
    "3)f\"digits/digit{image_number}.png\" is a formatted string that dynamically generates the file path by substituting the value of the image_number variable into the string.\n",
    "\n",
    "In summary, this expression is used to check if a file exists at the path specified by the string digits/digit{image_number}.png. It returns True if a file exists at that location, and False otherwise."
   ]
  },
  {
   "cell_type": "markdown",
   "id": "578965c3",
   "metadata": {},
   "source": [
    "**img=cv2.imread(f\"digit/digits{image_number}.png\")[:,:,0]**\n",
    "performs the following actions:\n",
    "\n",
    "1)cv2.imread() is a function from the OpenCV library that reads an image file from the specified path and returns a NumPy array representing the image.\n",
    "\n",
    "2)f\"digit/digits{image_number}.png\" is a formatted string that dynamically generates the file path by substituting the value of the image_number variable into the string. This assumes that there is an image file named digits{image_number}.png located in the digit/ directory.\n",
    "\n",
    "3)The resulting image is stored in the img variable.\n",
    "\n",
    "4)[:,:,0] is an indexing operation that selects the first channel of the image array. In OpenCV, color images are represented as three-channel (BGR) arrays, where each channel represents the intensity of blue, green, and red, respectively. By selecting [:,:,0], we are extracting only the blue channel of the image.\n",
    "\n",
    "To summarize, this code reads an image file, specified by the dynamic path generated with f\"digit/digits{image_number}.png\", using OpenCV's imread() function. It then extracts the blue channel of the image and stores it in the img variable as a two-dimensional NumPy array."
   ]
  },
  {
   "cell_type": "markdown",
   "id": "ac048617",
   "metadata": {},
   "source": [
    "# info"
   ]
  },
  {
   "cell_type": "raw",
   "id": "6c1e2fa6",
   "metadata": {},
   "source": [
    "by training with more epoch we train the data more and also restructure the neual network\n",
    "\n",
    "if u want with other way we can also use CNN or max pulling network"
   ]
  },
  {
   "cell_type": "code",
   "execution_count": null,
   "id": "09d6a823",
   "metadata": {},
   "outputs": [],
   "source": []
  }
 ],
 "metadata": {
  "kernelspec": {
   "display_name": "Python 3",
   "language": "python",
   "name": "python3"
  },
  "language_info": {
   "codemirror_mode": {
    "name": "ipython",
    "version": 3
   },
   "file_extension": ".py",
   "mimetype": "text/x-python",
   "name": "python",
   "nbconvert_exporter": "python",
   "pygments_lexer": "ipython3",
   "version": "3.8.8"
  }
 },
 "nbformat": 4,
 "nbformat_minor": 5
}
